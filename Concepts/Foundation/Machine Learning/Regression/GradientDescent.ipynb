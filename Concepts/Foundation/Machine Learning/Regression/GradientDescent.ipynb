{
 "cells": [
  {
   "cell_type": "markdown",
   "id": "ee97ca3e",
   "metadata": {},
   "source": [
    "### Gradeient Descent \n",
    "- The main idea of Gradient descent is tweak parameters iteratively in order to minimize cost function "
   ]
  },
  {
   "cell_type": "markdown",
   "id": "02aeaeaa",
   "metadata": {},
   "source": []
  }
 ],
 "metadata": {
  "language_info": {
   "name": "python"
  }
 },
 "nbformat": 4,
 "nbformat_minor": 5
}
