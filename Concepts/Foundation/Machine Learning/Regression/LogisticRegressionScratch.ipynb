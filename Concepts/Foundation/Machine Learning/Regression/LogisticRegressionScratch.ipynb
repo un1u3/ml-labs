{
 "cells": [
  {
   "cell_type": "code",
   "execution_count": 2,
   "id": "b6a6e5f1",
   "metadata": {},
   "outputs": [],
   "source": [
    "import numpy as np \n",
    "import pandas as pandas\n",
    "import matplotlib.pyplot as plt"
   ]
  },
  {
   "cell_type": "code",
   "execution_count": 10,
   "id": "841b290d",
   "metadata": {},
   "outputs": [],
   "source": [
    "import numpy as np\n",
    "\n",
    "def sigmoid(z):\n",
    "    return 1 / (1 + np.exp(-z))\n",
    "\n",
    "def model(X, y, learning_rate=0.01, iterations=1000):\n",
    "    m = X.shape[1]  # number of features\n",
    "    n = X.shape[0]  # number of training examples\n",
    "\n",
    "    W = np.zeros((m, 1))\n",
    "    B = 0\n",
    "    cost_list = []\n",
    "\n",
    "    for i in range(iterations):\n",
    "        Z = np.dot(W.T, X) + B\n",
    "        A = sigmoid(Z)\n",
    "\n",
    "        cost = -(1/n) * np.sum(y * np.log(A) + (1 - y) * np.log(1 - A))\n",
    "\n",
    "        dW = (1/n) *np.dot(X, (A - y).T)\n",
    "        dB = (1/n) * np.sum(A - y)\n",
    "\n",
    "        W = W - learning_rate * dW\n",
    "        B = B -learning_rate * dB\n",
    "\n",
    "        cost_list.append(cost)\n",
    "\n",
    "        if i % (iterations // 10) == 0:\n",
    "            print(f\"Cost after {i} iterations: {cost}\")\n",
    "\n",
    "    return W, B, cost_list\n"
   ]
  },
  {
   "cell_type": "code",
   "execution_count": null,
   "id": "9d4656f9",
   "metadata": {},
   "outputs": [],
   "source": []
  },
  {
   "cell_type": "code",
   "execution_count": null,
   "id": "39deec87",
   "metadata": {},
   "outputs": [],
   "source": []
  }
 ],
 "metadata": {
  "kernelspec": {
   "display_name": "base",
   "language": "python",
   "name": "python3"
  },
  "language_info": {
   "codemirror_mode": {
    "name": "ipython",
    "version": 3
   },
   "file_extension": ".py",
   "mimetype": "text/x-python",
   "name": "python",
   "nbconvert_exporter": "python",
   "pygments_lexer": "ipython3",
   "version": "3.12.7"
  }
 },
 "nbformat": 4,
 "nbformat_minor": 5
}
