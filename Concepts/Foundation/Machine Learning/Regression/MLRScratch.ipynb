{
 "cells": [
  {
   "cell_type": "code",
   "execution_count": 19,
   "id": "db6391e1",
   "metadata": {},
   "outputs": [],
   "source": [
    "### Coding a multiple Linear Regression \n",
    "import numpy as np\n",
    "class CustomLinearRegression:\n",
    "\n",
    "    def __init__(self,learning_rate=0.01,n_iters=100):\n",
    "        self.learning_rate = learning_rate\n",
    "        self.n_iters = n_iters\n",
    "        self.theta = None\n",
    "\n",
    "    def fit(self,X,y):\n",
    "        # Add 1s in front for the bias (this is like a base value for prediction)\n",
    "        X = np.c_[np.ones((X.shape[0], 1)), X]\n",
    "        m, n = X.shape  # m = number of examples, n = number of features + 1\n",
    "        self.theta = np.zeros((n, 1))  # Start with zeros\n",
    "        y = y.reshape(-1, 1)  # Make sure y is a column\n",
    "\n",
    "        # Now let the model learn again and again unitl it reaches to the point where slope = 0 \n",
    "        for i in range(self.n_iters):\n",
    "            prediction = X.dot(self.theta)\n",
    "            errors = prediction - y \n",
    "            gradients = (1/m) * X.T.dot(errors) # updatting the cost function \n",
    "            self.theta -= self.learning_rate * gradients #update the value of theta ie Slope \n",
    "            \n",
    "            \n",
    "    def predict(self,X):\n",
    "        X = np.c_[np.ones((X.shape[0], 1)), X]\n",
    "        return X.dot(self.theta)  # Give predictions\n",
    "\n",
    "    def mse(self, X, y):\n",
    "        predictions = self.predict(X)\n",
    "        return np.mean((predictions - y.reshape(-1, 1)) ** 2)\n"
   ]
  },
  {
   "cell_type": "code",
   "execution_count": 20,
   "id": "e513cbc8",
   "metadata": {},
   "outputs": [],
   "source": [
    "# testing LR\n",
    "\n"
   ]
  },
  {
   "cell_type": "code",
   "execution_count": null,
   "id": "fa6325dd",
   "metadata": {},
   "outputs": [],
   "source": [
    "\n"
   ]
  },
  {
   "cell_type": "code",
   "execution_count": 58,
   "id": "5a84a060",
   "metadata": {},
   "outputs": [],
   "source": [
    "\n",
    "X = 2 * np.random.rand(100, 1)\n",
    "y = 4 + 3 * X + np.random.randn(100, 1)  \n",
    "X_train, X_test, y_train, y_test = train_test_split(X, y, test_size=0.2)"
   ]
  },
  {
   "cell_type": "code",
   "execution_count": 59,
   "id": "c0795367",
   "metadata": {},
   "outputs": [],
   "source": [
    "model = CustomLinearRegression(learning_rate=0.1, n_iters=1000)\n",
    "model.fit(X_train, y_train)\n",
    "predictions = model.predict(X_test)\n",
    "mse_value = model.mse(X_test, y_test)\n"
   ]
  },
  {
   "cell_type": "code",
   "execution_count": 57,
   "id": "cf216499",
   "metadata": {},
   "outputs": [],
   "source": [
    "from sklearn.linear_model import LinearRegression\n",
    "\n",
    "model = LinearRegression()\n",
    "model.fit(X_train, y_train)\n",
    "predictions = model.predict(X_test)\n",
    "mse_value = np.mean((predictions - y_test) ** 2)\n"
   ]
  },
  {
   "cell_type": "code",
   "execution_count": null,
   "id": "4edbc03d",
   "metadata": {},
   "outputs": [],
   "source": []
  },
  {
   "cell_type": "code",
   "execution_count": null,
   "id": "0a5bce17",
   "metadata": {},
   "outputs": [],
   "source": []
  },
  {
   "cell_type": "code",
   "execution_count": null,
   "id": "d57b8efb",
   "metadata": {},
   "outputs": [],
   "source": []
  },
  {
   "cell_type": "code",
   "execution_count": null,
   "id": "4a988449",
   "metadata": {},
   "outputs": [],
   "source": []
  },
  {
   "cell_type": "code",
   "execution_count": null,
   "id": "9ea7a189",
   "metadata": {},
   "outputs": [],
   "source": []
  },
  {
   "cell_type": "code",
   "execution_count": null,
   "id": "8c03c7d5",
   "metadata": {},
   "outputs": [],
   "source": []
  }
 ],
 "metadata": {
  "kernelspec": {
   "display_name": "base",
   "language": "python",
   "name": "python3"
  },
  "language_info": {
   "codemirror_mode": {
    "name": "ipython",
    "version": 3
   },
   "file_extension": ".py",
   "mimetype": "text/x-python",
   "name": "python",
   "nbconvert_exporter": "python",
   "pygments_lexer": "ipython3",
   "version": "3.12.7"
  }
 },
 "nbformat": 4,
 "nbformat_minor": 5
}
