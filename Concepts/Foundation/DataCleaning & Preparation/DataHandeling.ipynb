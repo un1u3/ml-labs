{
 "cells": [
  {
   "cell_type": "code",
   "execution_count": null,
   "id": "2fc4908c",
   "metadata": {},
   "outputs": [],
   "source": [
    "import pandas as pd \n",
    "import numpy as np \n",
    "\n"
   ]
  },
  {
   "cell_type": "code",
   "execution_count": 5,
   "id": "9086bdbd",
   "metadata": {},
   "outputs": [],
   "source": [
    "df = pd.read_csv('Titanic-Dataset.csv')"
   ]
  },
  {
   "cell_type": "markdown",
   "id": "dd311a36",
   "metadata": {},
   "source": [
    "### Missing Completly at Random (MCAR)\n",
    "In this scenario missing values completely occur at \n",
    "random and there is no relationship between the missing\n",
    "data and any other values in the dataset. That is there is no pattern.\n",
    " We can say that the probability of data being missing is the same for all observations.\n",
    "\n"
   ]
  },
  {
   "cell_type": "markdown",
   "id": "c767c014",
   "metadata": {},
   "source": [
    "#### 2. Missing at Random (MAR)\n",
    "In this scenario, missing values do not occur at random but the pattern of missingness\n",
    "could be explained by other observations. That is, the likelihood of a value missing in\n",
    "the dataset could possibly be due to some other variables in the dataset.\n",
    "\n"
   ]
  },
  {
   "cell_type": "markdown",
   "id": "5f2deaf0",
   "metadata": {},
   "source": [
    "#### Missing Not at Random (MNAR):\n",
    "\n",
    " In this case, the missing values are not random and cannot be explained by the observed data. \n",
    " This could be challenging case as possible reason for the missingness are related to the unobserved data."
   ]
  },
  {
   "cell_type": "code",
   "execution_count": 7,
   "id": "bcc6a49a",
   "metadata": {},
   "outputs": [
    {
     "name": "stdout",
     "output_type": "stream",
     "text": [
      "<class 'pandas.core.frame.DataFrame'>\n",
      "RangeIndex: 891 entries, 0 to 890\n",
      "Data columns (total 12 columns):\n",
      " #   Column       Non-Null Count  Dtype  \n",
      "---  ------       --------------  -----  \n",
      " 0   PassengerId  891 non-null    int64  \n",
      " 1   Survived     891 non-null    int64  \n",
      " 2   Pclass       891 non-null    int64  \n",
      " 3   Name         891 non-null    object \n",
      " 4   Sex          891 non-null    object \n",
      " 5   Age          714 non-null    float64\n",
      " 6   SibSp        891 non-null    int64  \n",
      " 7   Parch        891 non-null    int64  \n",
      " 8   Ticket       891 non-null    object \n",
      " 9   Fare         891 non-null    float64\n",
      " 10  Cabin        204 non-null    object \n",
      " 11  Embarked     889 non-null    object \n",
      "dtypes: float64(2), int64(5), object(5)\n",
      "memory usage: 83.7+ KB\n"
     ]
    }
   ],
   "source": [
    "# How to know if the dataset has missing values?\n",
    "# Missing values are usually represented in the form of Nan or null or None in the dataset.\n",
    "\n",
    "df.info()\n",
    "# dfinfo gives name dtype and count of all null values "
   ]
  },
  {
   "cell_type": "code",
   "execution_count": 9,
   "id": "e4636bc9",
   "metadata": {},
   "outputs": [
    {
     "data": {
      "text/plain": [
       "PassengerId      0\n",
       "Survived         0\n",
       "Pclass           0\n",
       "Name             0\n",
       "Sex              0\n",
       "Age            177\n",
       "SibSp            0\n",
       "Parch            0\n",
       "Ticket           0\n",
       "Fare             0\n",
       "Cabin          687\n",
       "Embarked         2\n",
       "dtype: int64"
      ]
     },
     "execution_count": 9,
     "metadata": {},
     "output_type": "execute_result"
    }
   ],
   "source": [
    "df.isnull().sum()\n",
    "# gives features with null values"
   ]
  },
  {
   "cell_type": "markdown",
   "id": "b0991802",
   "metadata": {},
   "source": [
    "### Ways to deal with missing values "
   ]
  },
  {
   "cell_type": "code",
   "execution_count": 12,
   "id": "4ea210d3",
   "metadata": {},
   "outputs": [
    {
     "data": {
      "text/plain": [
       "PassengerId      0\n",
       "Survived         0\n",
       "Pclass           0\n",
       "Name             0\n",
       "Sex              0\n",
       "Age            177\n",
       "SibSp            0\n",
       "Parch            0\n",
       "Ticket           0\n",
       "Fare             0\n",
       "Embarked         2\n",
       "dtype: int64"
      ]
     },
     "execution_count": 12,
     "metadata": {},
     "output_type": "execute_result"
    }
   ],
   "source": [
    "# 1. Deleting the column with missing data \n",
    "df = df.drop(['Cabin'],axis=1)\n",
    "df.isnull().sum()\n"
   ]
  },
  {
   "cell_type": "markdown",
   "id": "c19d8655",
   "metadata": {},
   "source": [
    "###   Imputing missing values with mean/median of group\n"
   ]
  },
  {
   "cell_type": "code",
   "execution_count": 28,
   "id": "d969aaae",
   "metadata": {},
   "outputs": [],
   "source": [
    "#Mean\n",
    "df['Age'] = df['Age'].fillna(df.groupby('Pclass')['Age'].transform('mean'))\n",
    "#Median\n",
    "df['Age'] = df['Age'].fillna(df.groupby('Pclass')['Age'].transform('median'))\n"
   ]
  },
  {
   "cell_type": "code",
   "execution_count": 25,
   "id": "9023fe18",
   "metadata": {},
   "outputs": [
    {
     "data": {
      "text/plain": [
       "PassengerId    0\n",
       "Survived       0\n",
       "Pclass         0\n",
       "Name           0\n",
       "Sex            0\n",
       "Age            0\n",
       "SibSp          0\n",
       "Parch          0\n",
       "Ticket         0\n",
       "Fare           0\n",
       "Embarked       0\n",
       "dtype: int64"
      ]
     },
     "execution_count": 25,
     "metadata": {},
     "output_type": "execute_result"
    }
   ],
   "source": [
    "df.isnull().sum()"
   ]
  },
  {
   "cell_type": "code",
   "execution_count": null,
   "id": "1da64d07",
   "metadata": {},
   "outputs": [],
   "source": []
  }
 ],
 "metadata": {
  "kernelspec": {
   "display_name": "base",
   "language": "python",
   "name": "python3"
  },
  "language_info": {
   "codemirror_mode": {
    "name": "ipython",
    "version": 3
   },
   "file_extension": ".py",
   "mimetype": "text/x-python",
   "name": "python",
   "nbconvert_exporter": "python",
   "pygments_lexer": "ipython3",
   "version": "3.12.7"
  }
 },
 "nbformat": 4,
 "nbformat_minor": 5
}
