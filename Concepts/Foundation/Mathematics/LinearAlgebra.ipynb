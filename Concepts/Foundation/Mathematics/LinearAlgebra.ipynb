{
 "cells": [
  {
   "cell_type": "markdown",
   "id": "184fd158",
   "metadata": {},
   "source": [
    "### Vectors \n",
    "- A vector is a mathematical object that encodes a length and breadth \n",
    "- `V = [V1,V2,V3,V4.....Vn]`\n"
   ]
  },
  {
   "cell_type": "code",
   "execution_count": 3,
   "id": "cbfc462f",
   "metadata": {},
   "outputs": [
    {
     "data": {
      "text/plain": [
       "[10.5, 5, 2, 1, 4]"
      ]
     },
     "execution_count": 3,
     "metadata": {},
     "output_type": "execute_result"
    }
   ],
   "source": [
    "# simplest form of Vectors in python \n",
    "[10.5,5,2,1,4]"
   ]
  },
  {
   "cell_type": "code",
   "execution_count": 7,
   "id": "9351270b",
   "metadata": {},
   "outputs": [
    {
     "data": {
      "text/plain": [
       "array([1, 2, 3, 4])"
      ]
     },
     "execution_count": 7,
     "metadata": {},
     "output_type": "execute_result"
    }
   ],
   "source": [
    "# numpy ndarrays \n",
    "import numpy as np\n",
    "v = np.array([1,2,3,4])\n",
    "v"
   ]
  },
  {
   "cell_type": "code",
   "execution_count": 9,
   "id": "30f144b7",
   "metadata": {},
   "outputs": [
    {
     "data": {
      "text/plain": [
       "4"
      ]
     },
     "execution_count": 9,
     "metadata": {},
     "output_type": "execute_result"
    }
   ],
   "source": [
    "# size of a vector can be explained as \n",
    "v.size"
   ]
  },
  {
   "cell_type": "code",
   "execution_count": 10,
   "id": "69879c9f",
   "metadata": {},
   "outputs": [
    {
     "data": {
      "text/plain": [
       "3"
      ]
     },
     "execution_count": 10,
     "metadata": {},
     "output_type": "execute_result"
    }
   ],
   "source": [
    "# The  ith  element (also called entry or item) of a vector  v  is noted  vi .\n",
    "v[2]"
   ]
  },
  {
   "cell_type": "markdown",
   "id": "01a304d2",
   "metadata": {},
   "source": []
  },
  {
   "cell_type": "markdown",
   "id": "7f06df0f",
   "metadata": {},
   "source": [
    "### Plotting Vectors "
   ]
  },
  {
   "cell_type": "code",
   "execution_count": 29,
   "id": "6111d458",
   "metadata": {},
   "outputs": [
    {
     "data": {
      "image/png": "[encoded data removed]",
      "text/plain": [
       "<Figure size 640x480 with 1 Axes>"
      ]
     },
     "metadata": {},
     "output_type": "display_data"
    }
   ],
   "source": [
    "import matplotlib.pyplot as plt \n",
    "m = np.array([6,5])\n",
    "n = np.array([5,8])\n",
    "X,y = zip(m,n)\n",
    "plt.scatter(X,y,color=[\"r\",\"b\"])\n",
    "plt.axis([0,10,0,10])\n",
    "plt.grid()\n",
    "plt.show()"
   ]
  },
  {
   "cell_type": "code",
   "execution_count": 30,
   "id": "4a2f977b",
   "metadata": {},
   "outputs": [],
   "source": [
    "def plot_vector2d(vector2d, origin=[0, 0], **options):\n",
    "    return plt.arrow(origin[0], origin[1], vector2d[0], vector2d[1],\n",
    "              head_width=0.2, head_length=0.3, length_includes_head=True,\n",
    "              **options)\n",
    "              "
   ]
  },
  {
   "cell_type": "code",
   "execution_count": 1,
   "id": "8864bf7d",
   "metadata": {},
   "outputs": [
    {
     "ename": "NameError",
     "evalue": "name 'plot_vector2d' is not defined",
     "output_type": "error",
     "traceback": [
      "\u001b[0;31m---------------------------------------------------------------------------\u001b[0m",
      "\u001b[0;31mNameError\u001b[0m                                 Traceback (most recent call last)",
      "Cell \u001b[0;32mIn[1], line 1\u001b[0m\n\u001b[0;32m----> 1\u001b[0m plot_vector2d(X, color\u001b[38;5;241m=\u001b[39m\u001b[38;5;124m\"\u001b[39m\u001b[38;5;124mr\u001b[39m\u001b[38;5;124m\"\u001b[39m)\n\u001b[1;32m      2\u001b[0m plot_vector2d(y, color\u001b[38;5;241m=\u001b[39m\u001b[38;5;124m\"\u001b[39m\u001b[38;5;124mb\u001b[39m\u001b[38;5;124m\"\u001b[39m)\n\u001b[1;32m      3\u001b[0m plt\u001b[38;5;241m.\u001b[39maxis([\u001b[38;5;241m0\u001b[39m, \u001b[38;5;241m20\u001b[39m, \u001b[38;5;241m0\u001b[39m, \u001b[38;5;241m20\u001b[39m])\n",
      "\u001b[0;31mNameError\u001b[0m: name 'plot_vector2d' is not defined"
     ]
    }
   ],
   "source": [
    "plot_vector2d(X, color=\"r\")\n",
    "plot_vector2d(y, color=\"b\")\n",
    "plt.axis([0, 20, 0, 20])\n",
    "plt.grid()\n",
    "plt.show()"
   ]
  },
  {
   "cell_type": "code",
   "execution_count": null,
   "id": "8e863a22",
   "metadata": {},
   "outputs": [],
   "source": []
  }
 ],
 "metadata": {
  "kernelspec": {
   "display_name": "base",
   "language": "python",
   "name": "python3"
  },
  "language_info": {
   "codemirror_mode": {
    "name": "ipython",
    "version": 3
   },
   "file_extension": ".py",
   "mimetype": "text/x-python",
   "name": "python",
   "nbconvert_exporter": "python",
   "pygments_lexer": "ipython3",
   "version": "3.12.7"
  }
 },
 "nbformat": 4,
 "nbformat_minor": 5
}
