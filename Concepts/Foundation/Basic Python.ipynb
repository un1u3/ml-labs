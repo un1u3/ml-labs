{
 "cells": [
  {
   "cell_type": "code",
   "execution_count": 5,
   "id": "109764e1",
   "metadata": {},
   "outputs": [
    {
     "name": "stdout",
     "output_type": "stream",
     "text": [
      "hello world\n"
     ]
    }
   ],
   "source": [
    "# Note : this module doesnot ipynb file doesnot contain every this \n",
    "# just revising some concepts \n",
    "print(\"hello world\")"
   ]
  },
  {
   "cell_type": "code",
   "execution_count": 6,
   "id": "9c4d1315",
   "metadata": {},
   "outputs": [
    {
     "name": "stdout",
     "output_type": "stream",
     "text": [
      "5\n"
     ]
    }
   ],
   "source": [
    "a = 5 \n",
    "print(a)"
   ]
  },
  {
   "cell_type": "code",
   "execution_count": 7,
   "id": "e2c611cb",
   "metadata": {},
   "outputs": [
    {
     "data": {
      "text/plain": [
       "'/home/unique/Desktop/ml-labs/Concepts/Foundation'"
      ]
     },
     "execution_count": 7,
     "metadata": {},
     "output_type": "execute_result"
    }
   ],
   "source": [
    "# path to working directory \n",
    "%pwd"
   ]
  },
  {
   "cell_type": "code",
   "execution_count": null,
   "id": "b89dc8af",
   "metadata": {},
   "outputs": [],
   "source": [
    "from modeulname import functions, classes,methods etc "
   ]
  },
  {
   "cell_type": "code",
   "execution_count": 9,
   "id": "9369c997",
   "metadata": {},
   "outputs": [],
   "source": [
    "# Built in data structures "
   ]
  },
  {
   "cell_type": "markdown",
   "id": "44ff75ca",
   "metadata": {},
   "source": [
    "### Tuple"
   ]
  },
  {
   "cell_type": "code",
   "execution_count": 14,
   "id": "6182dfb4",
   "metadata": {},
   "outputs": [
    {
     "data": {
      "text/plain": [
       "(4, 5, 6)"
      ]
     },
     "execution_count": 14,
     "metadata": {},
     "output_type": "execute_result"
    }
   ],
   "source": [
    "# Tuple\n",
    "#  - A tuple is a fixed length, immutable squence of python object which once \n",
    "# asssigned, cannot be changed\n",
    "tup = (4,5,6)\n",
    "tup"
   ]
  },
  {
   "cell_type": "code",
   "execution_count": 16,
   "id": "fb0d8475",
   "metadata": {},
   "outputs": [
    {
     "data": {
      "text/plain": [
       "('s', 't', 'r', 'i', 'n', 'g')"
      ]
     },
     "execution_count": 16,
     "metadata": {},
     "output_type": "execute_result"
    }
   ],
   "source": [
    "tup = tuple(\"string\")\n",
    "tup"
   ]
  },
  {
   "cell_type": "code",
   "execution_count": 18,
   "id": "148c7b21",
   "metadata": {},
   "outputs": [
    {
     "data": {
      "text/plain": [
       "((4, 5, 6), (7, 8))"
      ]
     },
     "execution_count": 18,
     "metadata": {},
     "output_type": "execute_result"
    }
   ],
   "source": [
    "nexted_tup = (4,5,6), (7,8)\n",
    "nexted_tup"
   ]
  },
  {
   "cell_type": "code",
   "execution_count": 19,
   "id": "c0c6f9b4",
   "metadata": {},
   "outputs": [
    {
     "data": {
      "text/plain": [
       "('foo', [1, 2], True)"
      ]
     },
     "execution_count": 19,
     "metadata": {},
     "output_type": "execute_result"
    }
   ],
   "source": [
    "tuple(['foo',[1,2],True])"
   ]
  },
  {
   "cell_type": "code",
   "execution_count": null,
   "id": "de2c6be9",
   "metadata": {},
   "outputs": [],
   "source": []
  },
  {
   "cell_type": "markdown",
   "id": "a995c7b0",
   "metadata": {},
   "source": [
    "### List "
   ]
  },
  {
   "cell_type": "code",
   "execution_count": 22,
   "id": "53b82187",
   "metadata": {},
   "outputs": [
    {
     "data": {
      "text/plain": [
       "1"
      ]
     },
     "execution_count": 22,
     "metadata": {},
     "output_type": "execute_result"
    }
   ],
   "source": [
    "# list - collection of mutable items \n",
    "# simiar to array \n",
    "list = ['hello',1,2,3,4.1]\n",
    "list[1]"
   ]
  },
  {
   "cell_type": "code",
   "execution_count": 23,
   "id": "bf4bb6aa",
   "metadata": {},
   "outputs": [
    {
     "name": "stdout",
     "output_type": "stream",
     "text": [
      "hello\n",
      "1\n",
      "2\n",
      "3\n",
      "4.1\n"
     ]
    }
   ],
   "source": [
    "for l in list:\n",
    "    print(l)"
   ]
  },
  {
   "cell_type": "code",
   "execution_count": 28,
   "id": "7ea00c98",
   "metadata": {},
   "outputs": [
    {
     "data": {
      "text/plain": [
       "False"
      ]
     },
     "execution_count": 28,
     "metadata": {},
     "output_type": "execute_result"
    }
   ],
   "source": [
    "2 in list\n",
    "2 not in list"
   ]
  },
  {
   "cell_type": "code",
   "execution_count": 44,
   "id": "89a6685b",
   "metadata": {},
   "outputs": [],
   "source": [
    "numlist = [1,2,3,4,6,7,8,2,2]\n",
    "numlist.sort()"
   ]
  },
  {
   "cell_type": "code",
   "execution_count": 45,
   "id": "1311c882",
   "metadata": {},
   "outputs": [
    {
     "name": "stdout",
     "output_type": "stream",
     "text": [
      "[1, 2, 2, 2, 3, 4, 6, 7, 8]\n"
     ]
    }
   ],
   "source": [
    "print(numlist)"
   ]
  },
  {
   "cell_type": "code",
   "execution_count": 48,
   "id": "6a4029bd",
   "metadata": {},
   "outputs": [
    {
     "data": {
      "text/plain": [
       "[8, 7, 6, 4, 3, 2, 2, 2, 1]"
      ]
     },
     "execution_count": 48,
     "metadata": {},
     "output_type": "execute_result"
    }
   ],
   "source": [
    "numlist[::-1]"
   ]
  },
  {
   "cell_type": "markdown",
   "id": "73a83267",
   "metadata": {},
   "source": [
    "### Dictionary "
   ]
  },
  {
   "cell_type": "code",
   "execution_count": 59,
   "id": "9cf34175",
   "metadata": {},
   "outputs": [
    {
     "data": {
      "text/plain": [
       "'value'"
      ]
     },
     "execution_count": 59,
     "metadata": {},
     "output_type": "execute_result"
    }
   ],
   "source": [
    "# similar to hash maps or associative arrays \n",
    "# it consitst of {key:value} pair \n",
    "d1 = {\n",
    "    'key':'value',\n",
    "    'key1':'value1',\n",
    "    1:1,\n",
    "}\n",
    "d1['key']"
   ]
  },
  {
   "cell_type": "code",
   "execution_count": 54,
   "id": "e75f3bbb",
   "metadata": {},
   "outputs": [
    {
     "data": {
      "text/plain": [
       "True"
      ]
     },
     "execution_count": 54,
     "metadata": {},
     "output_type": "execute_result"
    }
   ],
   "source": [
    "'key' in d1"
   ]
  },
  {
   "cell_type": "code",
   "execution_count": 61,
   "id": "908f5f0a",
   "metadata": {},
   "outputs": [
    {
     "data": {
      "text/plain": [
       "dict_keys(['key', 'key1', 1])"
      ]
     },
     "execution_count": 61,
     "metadata": {},
     "output_type": "execute_result"
    }
   ],
   "source": [
    "d1.keys()"
   ]
  },
  {
   "cell_type": "code",
   "execution_count": 60,
   "id": "e53d07d5",
   "metadata": {},
   "outputs": [
    {
     "data": {
      "text/plain": [
       "dict_values(['value', 'value1', 1])"
      ]
     },
     "execution_count": 60,
     "metadata": {},
     "output_type": "execute_result"
    }
   ],
   "source": [
    "d1.values()"
   ]
  },
  {
   "cell_type": "code",
   "execution_count": 67,
   "id": "5b898c68",
   "metadata": {},
   "outputs": [
    {
     "data": {
      "text/plain": [
       "{'a': ['apple', 'atom'], 'b': ['bat', 'bar', 'books']}"
      ]
     },
     "execution_count": 67,
     "metadata": {},
     "output_type": "execute_result"
    }
   ],
   "source": [
    "words = ['apple','bat','bar','atom','books']\n",
    "byLetters = {}\n",
    "\n",
    "for word in words:\n",
    "    letter = word[0]\n",
    "    if letter not in byLetters:\n",
    "        byLetters[letter] = [word]\n",
    "    else:\n",
    "        byLetters[letter].append(word)\n",
    "byLetters"
   ]
  },
  {
   "cell_type": "markdown",
   "id": "7eb72bbe",
   "metadata": {},
   "source": [
    "### Set"
   ]
  },
  {
   "cell_type": "code",
   "execution_count": 85,
   "id": "4d74e7a9",
   "metadata": {},
   "outputs": [],
   "source": [
    "# A set is an unordered collecction of unique elements\n",
    "\n",
    "set([1,2,3,4]) # or \n",
    "se = {1,2,3,4}\n",
    "# a set cannot repeate elements \n",
    "# all types of operations like intersecction, union are valid for sets "
   ]
  },
  {
   "cell_type": "markdown",
   "id": "1fcb222d",
   "metadata": {},
   "source": [
    "### List, Set and Dictionary Comprehensions "
   ]
  },
  {
   "cell_type": "code",
   "execution_count": null,
   "id": "96b9c41b",
   "metadata": {},
   "outputs": [],
   "source": [
    "[expr for value in collecction if condition] #this is equilvalent to \n",
    "# this\n",
    "result = []\n",
    "for value in collections:\n",
    "    if condition:\n",
    "        result.append(expr)"
   ]
  },
  {
   "cell_type": "code",
   "execution_count": 80,
   "id": "5b980892",
   "metadata": {},
   "outputs": [
    {
     "data": {
      "text/plain": [
       "['ANT', 'BAT', 'CAT']"
      ]
     },
     "execution_count": 80,
     "metadata": {},
     "output_type": "execute_result"
    }
   ],
   "source": [
    "strings = ['ANT','BAT','CAT']\n",
    "[x.upper() for x in strings ]"
   ]
  },
  {
   "cell_type": "code",
   "execution_count": 83,
   "id": "7b3879be",
   "metadata": {},
   "outputs": [],
   "source": [
    "numbers = [1,2,3,4,5,6,7,8,9,10]\n",
    "cat = [x for x in numbers if x > 5]"
   ]
  },
  {
   "cell_type": "code",
   "execution_count": 84,
   "id": "55f38b29",
   "metadata": {},
   "outputs": [
    {
     "data": {
      "text/plain": [
       "[6, 7, 8, 9, 10]"
      ]
     },
     "execution_count": 84,
     "metadata": {},
     "output_type": "execute_result"
    }
   ],
   "source": [
    "cat"
   ]
  },
  {
   "cell_type": "code",
   "execution_count": 95,
   "id": "5769453d",
   "metadata": {},
   "outputs": [
    {
     "data": {
      "text/plain": [
       "{2, 5}"
      ]
     },
     "execution_count": 95,
     "metadata": {},
     "output_type": "execute_result"
    }
   ],
   "source": [
    "strings = ['Hekko','os','as']\n",
    "set_compp = {len(x) for x in strings }\n",
    "set_compp"
   ]
  },
  {
   "cell_type": "markdown",
   "id": "40322bcc",
   "metadata": {},
   "source": [
    "### NumPy Basics "
   ]
  },
  {
   "cell_type": "code",
   "execution_count": 107,
   "id": "8a8ccb8d",
   "metadata": {},
   "outputs": [],
   "source": [
    "import numpy as np \n",
    "my_arr = np.arange(1)"
   ]
  },
  {
   "cell_type": "code",
   "execution_count": 108,
   "id": "2547e66e",
   "metadata": {},
   "outputs": [
    {
     "data": {
      "text/plain": [
       "array([0])"
      ]
     },
     "execution_count": 108,
     "metadata": {},
     "output_type": "execute_result"
    }
   ],
   "source": [
    "my_arr"
   ]
  },
  {
   "cell_type": "code",
   "execution_count": null,
   "id": "a0372fc5",
   "metadata": {},
   "outputs": [],
   "source": [
    "       "
   ]
  }
 ],
 "metadata": {
  "kernelspec": {
   "display_name": "base",
   "language": "python",
   "name": "python3"
  },
  "language_info": {
   "codemirror_mode": {
    "name": "ipython",
    "version": 3
   },
   "file_extension": ".py",
   "mimetype": "text/x-python",
   "name": "python",
   "nbconvert_exporter": "python",
   "pygments_lexer": "ipython3",
   "version": "3.12.7"
  }
 },
 "nbformat": 4,
 "nbformat_minor": 5
}
