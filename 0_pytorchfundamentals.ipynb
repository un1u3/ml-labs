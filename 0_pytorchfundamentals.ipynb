{
  "cells": [
    {
      "cell_type": "markdown",
      "metadata": {
        "id": "view-in-github",
        "colab_type": "text"
      },
      "source": [
        "<a href=\"https://colab.research.google.com/github/un1u3/ml-labs/blob/main/0_pytorchfundamentals.ipynb\" target=\"_parent\"><img src=\"https://colab.research.google.com/assets/colab-badge.svg\" alt=\"Open In Colab\"/></a>"
      ]
    },
    {
      "cell_type": "code",
      "execution_count": null,
      "id": "07e2832d",
      "metadata": {
        "id": "07e2832d",
        "outputId": "c35899ae-ff63-410f-ea43-c533693c1827"
      },
      "outputs": [
        {
          "data": {
            "text/plain": [
              "'Learning Pytorch'"
            ]
          },
          "execution_count": 1,
          "metadata": {},
          "output_type": "execute_result"
        }
      ],
      "source": [
        "\"Learning Pytorch in COllab parr\""
      ]
    },
    {
      "cell_type": "code",
      "execution_count": null,
      "id": "6a9c3406",
      "metadata": {
        "id": "6a9c3406"
      },
      "outputs": [],
      "source": []
    },
    {
      "cell_type": "code",
      "execution_count": null,
      "id": "4a606907",
      "metadata": {
        "id": "4a606907"
      },
      "outputs": [],
      "source": [
        "\"checking Connectiin\""
      ]
    },
    {
      "cell_type": "code",
      "source": [],
      "metadata": {
        "id": "u8deVK5Fc-ll"
      },
      "id": "u8deVK5Fc-ll",
      "execution_count": null,
      "outputs": []
    }
  ],
  "metadata": {
    "kernelspec": {
      "display_name": "base",
      "language": "python",
      "name": "python3"
    },
    "language_info": {
      "codemirror_mode": {
        "name": "ipython",
        "version": 3
      },
      "file_extension": ".py",
      "mimetype": "text/x-python",
      "name": "python",
      "nbconvert_exporter": "python",
      "pygments_lexer": "ipython3",
      "version": "3.12.7"
    },
    "colab": {
      "provenance": [],
      "include_colab_link": true
    }
  },
  "nbformat": 4,
  "nbformat_minor": 5
}