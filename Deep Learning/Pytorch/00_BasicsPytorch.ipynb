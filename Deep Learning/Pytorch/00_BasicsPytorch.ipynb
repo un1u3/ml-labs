{
  "nbformat": 4,
  "nbformat_minor": 0,
  "metadata": {
    "colab": {
      "provenance": [],
      "gpuType": "T4",
      "authorship_tag": "ABX9TyOTqEbzs16cMAy9HMg/SqhO",
      "include_colab_link": true
    },
    "kernelspec": {
      "name": "python3",
      "display_name": "Python 3"
    },
    "language_info": {
      "name": "python"
    },
    "accelerator": "GPU"
  },
  "cells": [
    {
      "cell_type": "markdown",
      "metadata": {
        "id": "view-in-github",
        "colab_type": "text"
      },
      "source": [
        "<a href=\"https://colab.research.google.com/github/un1u3/ml-labs/blob/main/Deep%20Learning/Pytorch/00_BasicsPytorch.ipynb\" target=\"_parent\"><img src=\"https://colab.research.google.com/assets/colab-badge.svg\" alt=\"Open In Colab\"/></a>"
      ]
    },
    {
      "cell_type": "code",
      "execution_count": 2,
      "metadata": {
        "id": "At0nYQlpHLh_"
      },
      "outputs": [],
      "source": [
        "import torch\n"
      ]
    },
    {
      "cell_type": "markdown",
      "source": [
        "#Core Pytorch Modules\n",
        "| Module             | Purpose                               |\n",
        "| ------------------ | ------------------------------------- |\n",
        "| `torch`            | Tensors, math ops, core engine        |\n",
        "| `torch.nn`         | Layers, models, activations, losses   |\n",
        "| `torch.optim`      | Optimizers (SGD, Adam, etc.)          |\n",
        "| `torch.utils.data` | Datasets and DataLoaders              |\n",
        "| `torch.autograd`   | Automatic gradient computation        |\n",
        "| `torchvision`      | Images, pretrained models, transforms |\n"
      ],
      "metadata": {
        "id": "qm1wkQYfHQvT"
      }
    },
    {
      "cell_type": "code",
      "source": [],
      "metadata": {
        "id": "mF3NRQ6rJ1Tk"
      },
      "execution_count": 2,
      "outputs": []
    },
    {
      "cell_type": "markdown",
      "source": [
        "What are Tensors\n",
        "- Tensor is a specialied multi-dimensional arra designed for mathematical and computational efficiency"
      ],
      "metadata": {
        "id": "hNPLSIiQImD_"
      }
    },
    {
      "cell_type": "code",
      "source": [
        "print(torch.__version__)"
      ],
      "metadata": {
        "colab": {
          "base_uri": "https://localhost:8080/"
        },
        "id": "PTVEzH3fKAWf",
        "outputId": "d1f7b0e4-1de6-40dd-a4c2-297d7bb9f58e"
      },
      "execution_count": 3,
      "outputs": [
        {
          "output_type": "stream",
          "name": "stdout",
          "text": [
            "2.6.0+cu124\n"
          ]
        }
      ]
    },
    {
      "cell_type": "code",
      "source": [
        "if torch.cuda.is_available():\n",
        "  print(\"CUA\",torch.cuda.get_device_name(0))\n",
        "else:\n",
        "  print(\"NO\")"
      ],
      "metadata": {
        "colab": {
          "base_uri": "https://localhost:8080/"
        },
        "id": "6fsMlymBMQFV",
        "outputId": "82835074-5de6-4ef9-d001-35f9d2001163"
      },
      "execution_count": 4,
      "outputs": [
        {
          "output_type": "stream",
          "name": "stdout",
          "text": [
            "CUA Tesla T4\n"
          ]
        }
      ]
    },
    {
      "cell_type": "markdown",
      "source": [
        "# creating a tensor\n"
      ],
      "metadata": {
        "id": "CXtVAYG1McBU"
      }
    },
    {
      "cell_type": "code",
      "source": [
        "# using empty\n",
        "a = torch.empty(2,3)\n",
        "# make space for 2x3 mat"
      ],
      "metadata": {
        "id": "pbf7OfjoMyV5"
      },
      "execution_count": 8,
      "outputs": []
    },
    {
      "cell_type": "code",
      "source": [
        "# check type\n",
        "type(a)"
      ],
      "metadata": {
        "colab": {
          "base_uri": "https://localhost:8080/"
        },
        "id": "1AtImyJBM0-h",
        "outputId": "dbb56062-4b61-4995-91f3-73a2dca2dd10"
      },
      "execution_count": 9,
      "outputs": [
        {
          "output_type": "execute_result",
          "data": {
            "text/plain": [
              "torch.Tensor"
            ]
          },
          "metadata": {},
          "execution_count": 9
        }
      ]
    },
    {
      "cell_type": "code",
      "source": [
        "# using zeros - initallizes with value zero\n",
        "torch.zeros(2,3)"
      ],
      "metadata": {
        "colab": {
          "base_uri": "https://localhost:8080/"
        },
        "id": "vHTlOe40NAXx",
        "outputId": "0875386b-5fa3-46a5-926c-d78c9a3d3514"
      },
      "execution_count": 10,
      "outputs": [
        {
          "output_type": "execute_result",
          "data": {
            "text/plain": [
              "tensor([[0., 0., 0.],\n",
              "        [0., 0., 0.]])"
            ]
          },
          "metadata": {},
          "execution_count": 10
        }
      ]
    },
    {
      "cell_type": "code",
      "source": [
        "# using ones\n",
        "torch.ones(2,3)"
      ],
      "metadata": {
        "colab": {
          "base_uri": "https://localhost:8080/"
        },
        "id": "n7vrjFy6NHc0",
        "outputId": "14855b10-c927-4143-bed4-8458764f09e1"
      },
      "execution_count": 11,
      "outputs": [
        {
          "output_type": "execute_result",
          "data": {
            "text/plain": [
              "tensor([[1., 1., 1.],\n",
              "        [1., 1., 1.]])"
            ]
          },
          "metadata": {},
          "execution_count": 11
        }
      ]
    },
    {
      "cell_type": "code",
      "source": [
        "# using rand\n",
        "torch.manual_seed(42)\n",
        "torch.rand(2,3)\n",
        "# manual_seed = random_contrrol"
      ],
      "metadata": {
        "colab": {
          "base_uri": "https://localhost:8080/"
        },
        "id": "9or5nK9HNJiP",
        "outputId": "eed2593f-54f2-4b61-beb1-5ef85a65c6fc"
      },
      "execution_count": 16,
      "outputs": [
        {
          "output_type": "execute_result",
          "data": {
            "text/plain": [
              "tensor([[0.8823, 0.9150, 0.3829],\n",
              "        [0.9593, 0.3904, 0.6009]])"
            ]
          },
          "metadata": {},
          "execution_count": 16
        }
      ]
    },
    {
      "cell_type": "code",
      "source": [
        "# using tensor\n",
        "# for custom\n",
        "torch.tensor([[1,2,3],[4,5,6]])"
      ],
      "metadata": {
        "colab": {
          "base_uri": "https://localhost:8080/"
        },
        "id": "uJ0rMyjDNMIt",
        "outputId": "39cb7825-f7f0-4ec3-9d4d-9a7690e3f241"
      },
      "execution_count": 20,
      "outputs": [
        {
          "output_type": "execute_result",
          "data": {
            "text/plain": [
              "tensor([[1, 2, 3],\n",
              "        [4, 5, 6]])"
            ]
          },
          "metadata": {},
          "execution_count": 20
        }
      ]
    },
    {
      "cell_type": "code",
      "source": [
        "# linspace- linear space\n",
        "torch.linspace(0,1,10)"
      ],
      "metadata": {
        "colab": {
          "base_uri": "https://localhost:8080/"
        },
        "id": "i6ypgwTHNebF",
        "outputId": "a586be71-8562-4da5-ab56-c48ada0c793b"
      },
      "execution_count": 21,
      "outputs": [
        {
          "output_type": "execute_result",
          "data": {
            "text/plain": [
              "tensor([0.0000, 0.1111, 0.2222, 0.3333, 0.4444, 0.5556, 0.6667, 0.7778, 0.8889,\n",
              "        1.0000])"
            ]
          },
          "metadata": {},
          "execution_count": 21
        }
      ]
    },
    {
      "cell_type": "code",
      "source": [],
      "metadata": {
        "id": "Hce2N4d-NyTN"
      },
      "execution_count": null,
      "outputs": []
    }
  ]
}