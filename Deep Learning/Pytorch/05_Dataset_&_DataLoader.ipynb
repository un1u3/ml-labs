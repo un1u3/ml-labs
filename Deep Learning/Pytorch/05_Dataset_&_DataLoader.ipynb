{
  "nbformat": 4,
  "nbformat_minor": 0,
  "metadata": {
    "colab": {
      "provenance": [],
      "authorship_tag": "ABX9TyO/Ycgpp6Fbxw49Mpb1JUgX",
      "include_colab_link": true
    },
    "kernelspec": {
      "name": "python3",
      "display_name": "Python 3"
    },
    "language_info": {
      "name": "python"
    }
  },
  "cells": [
    {
      "cell_type": "markdown",
      "metadata": {
        "id": "view-in-github",
        "colab_type": "text"
      },
      "source": [
        "<a href=\"https://colab.research.google.com/github/un1u3/ml-labs/blob/main/Deep%20Learning/Pytorch/05_Dataset_%26_DataLoader.ipynb\" target=\"_parent\"><img src=\"https://colab.research.google.com/assets/colab-badge.svg\" alt=\"Open In Colab\"/></a>"
      ]
    },
    {
      "cell_type": "code",
      "execution_count": 88,
      "metadata": {
        "id": "rd2Iws6ySMQL"
      },
      "outputs": [],
      "source": [
        "from sklearn.datasets import make_classification\n",
        "import torch"
      ]
    },
    {
      "cell_type": "code",
      "source": [
        "X, y = make_classification(\n",
        "    n_samples =10,\n",
        "    n_features= 10,\n",
        "    n_informative=2,\n",
        "    n_redundant= 0,\n",
        "    n_classes= 2,\n",
        "    random_state=42\n",
        ")"
      ],
      "metadata": {
        "id": "uXBPUBBtcdDB"
      },
      "execution_count": 89,
      "outputs": []
    },
    {
      "cell_type": "code",
      "source": [
        "X"
      ],
      "metadata": {
        "colab": {
          "base_uri": "https://localhost:8080/"
        },
        "id": "lHJklkrecqOo",
        "outputId": "0f0984fa-6afd-40d5-8af4-b63c6e4285e4"
      },
      "execution_count": 90,
      "outputs": [
        {
          "output_type": "execute_result",
          "data": {
            "text/plain": [
              "array([[-0.70205309, -1.46351495,  1.97686236, -0.39210815, -0.5297602 ,\n",
              "         0.96864499, -2.8953973 ,  0.51326743,  0.09707755, -0.32766215],\n",
              "       [-1.47852199,  1.05712223, -1.97171753, -0.46063877,  0.73846658,\n",
              "        -0.3011037 , -0.58723065,  0.17136828, -0.11564828, -0.71984421],\n",
              "       [ 0.36163603,  1.53803657, -0.97007347,  0.36139561,  0.81252582,\n",
              "         1.0035329 ,  1.06833894,  1.35624003, -0.07201012, -0.64511975],\n",
              "       [ 0.2088636 ,  0.19686124, -0.96059253, -1.32818605, -0.01349722,\n",
              "        -1.22084365, -0.72063436, -1.05771093,  0.82254491, -1.95967012],\n",
              "       [ 0.25755039, -0.02651388,  0.83444483, -1.91877122, -0.16128571,\n",
              "         0.17457781,  1.89969252,  0.40405086,  1.8861859 , -0.07444592],\n",
              "       [-0.676922  ,  0.93128012, -0.83879234,  1.03099952,  0.34361829,\n",
              "        -0.38508228, -1.14021544, -1.76304016,  0.32408397,  0.61167629],\n",
              "       [-1.41537074, -0.80227727,  1.51157598, -0.34271452,  0.29612028,\n",
              "        -0.23458713,  1.77736657,  0.26105527,  0.00511346, -0.42064532],\n",
              "       [-0.47917424, -1.19620662, -0.54304815, -1.10633497, -0.83921752,\n",
              "         0.97554513, -0.9382051 , -0.30921238,  0.33126343, -0.18565898],\n",
              "       [-0.8084936 ,  0.32875111, -0.99225135,  0.91540212, -0.21967189,\n",
              "        -0.51827022, -1.96287438,  0.35711257,  1.47789404, -0.50175704],\n",
              "       [ 0.08704707, -1.98756891, -1.18582677,  0.09176078, -0.03582604,\n",
              "         0.8219025 ,  1.72725924,  1.56464366, -2.6197451 , -0.29900735]])"
            ]
          },
          "metadata": {},
          "execution_count": 90
        }
      ]
    },
    {
      "cell_type": "code",
      "source": [
        "X.shape"
      ],
      "metadata": {
        "colab": {
          "base_uri": "https://localhost:8080/"
        },
        "id": "s0YyN5qgcrxJ",
        "outputId": "dff859cf-0149-4e7f-810b-93d368f6f37d"
      },
      "execution_count": 91,
      "outputs": [
        {
          "output_type": "execute_result",
          "data": {
            "text/plain": [
              "(10, 10)"
            ]
          },
          "metadata": {},
          "execution_count": 91
        }
      ]
    },
    {
      "cell_type": "code",
      "source": [
        "y.shape"
      ],
      "metadata": {
        "colab": {
          "base_uri": "https://localhost:8080/"
        },
        "id": "ysP7LGNDc6h8",
        "outputId": "753dbed7-ca16-47a2-c499-792a803675d2"
      },
      "execution_count": 92,
      "outputs": [
        {
          "output_type": "execute_result",
          "data": {
            "text/plain": [
              "(10,)"
            ]
          },
          "metadata": {},
          "execution_count": 92
        }
      ]
    },
    {
      "cell_type": "code",
      "source": [
        "X = torch.tensor(X,dtype=float)"
      ],
      "metadata": {
        "id": "Pz3evhBhc7RO"
      },
      "execution_count": 93,
      "outputs": []
    },
    {
      "cell_type": "code",
      "source": [
        "y = torch.tensor(y,dtype=float)"
      ],
      "metadata": {
        "id": "w4EW9-Otc9vm"
      },
      "execution_count": 94,
      "outputs": []
    },
    {
      "cell_type": "code",
      "source": [
        "X"
      ],
      "metadata": {
        "colab": {
          "base_uri": "https://localhost:8080/"
        },
        "id": "Riu1Hza0dGoB",
        "outputId": "c824d1c8-6b86-492d-920a-9c5a640f5242"
      },
      "execution_count": 95,
      "outputs": [
        {
          "output_type": "execute_result",
          "data": {
            "text/plain": [
              "tensor([[-0.7021, -1.4635,  1.9769, -0.3921, -0.5298,  0.9686, -2.8954,  0.5133,\n",
              "          0.0971, -0.3277],\n",
              "        [-1.4785,  1.0571, -1.9717, -0.4606,  0.7385, -0.3011, -0.5872,  0.1714,\n",
              "         -0.1156, -0.7198],\n",
              "        [ 0.3616,  1.5380, -0.9701,  0.3614,  0.8125,  1.0035,  1.0683,  1.3562,\n",
              "         -0.0720, -0.6451],\n",
              "        [ 0.2089,  0.1969, -0.9606, -1.3282, -0.0135, -1.2208, -0.7206, -1.0577,\n",
              "          0.8225, -1.9597],\n",
              "        [ 0.2576, -0.0265,  0.8344, -1.9188, -0.1613,  0.1746,  1.8997,  0.4041,\n",
              "          1.8862, -0.0744],\n",
              "        [-0.6769,  0.9313, -0.8388,  1.0310,  0.3436, -0.3851, -1.1402, -1.7630,\n",
              "          0.3241,  0.6117],\n",
              "        [-1.4154, -0.8023,  1.5116, -0.3427,  0.2961, -0.2346,  1.7774,  0.2611,\n",
              "          0.0051, -0.4206],\n",
              "        [-0.4792, -1.1962, -0.5430, -1.1063, -0.8392,  0.9755, -0.9382, -0.3092,\n",
              "          0.3313, -0.1857],\n",
              "        [-0.8085,  0.3288, -0.9923,  0.9154, -0.2197, -0.5183, -1.9629,  0.3571,\n",
              "          1.4779, -0.5018],\n",
              "        [ 0.0870, -1.9876, -1.1858,  0.0918, -0.0358,  0.8219,  1.7273,  1.5646,\n",
              "         -2.6197, -0.2990]], dtype=torch.float64)"
            ]
          },
          "metadata": {},
          "execution_count": 95
        }
      ]
    },
    {
      "cell_type": "code",
      "source": [
        "from torch.utils.data import Dataset, DataLoader"
      ],
      "metadata": {
        "id": "9ovZh2CVdHcH"
      },
      "execution_count": 96,
      "outputs": []
    },
    {
      "cell_type": "code",
      "source": [
        "class CustomDataset(Dataset):\n",
        "\n",
        "  def __init__(self,features,labels):\n",
        "    self.features = features\n",
        "    self.labels = labels\n",
        "\n",
        "  def __len__(self):\n",
        "    return self.features.shape[0]\n",
        "\n",
        "  def __getitem__(self,index):\n",
        "    return self.features[index], self.labels[index]"
      ],
      "metadata": {
        "id": "D65s1mgwdOsa"
      },
      "execution_count": 97,
      "outputs": []
    },
    {
      "cell_type": "code",
      "source": [
        "dataset = CustomDataset(X,y)"
      ],
      "metadata": {
        "id": "fAuuN8L1dhn2"
      },
      "execution_count": 98,
      "outputs": []
    },
    {
      "cell_type": "code",
      "source": [
        "dataset[2]"
      ],
      "metadata": {
        "colab": {
          "base_uri": "https://localhost:8080/"
        },
        "id": "TmmE5Ilgdtyn",
        "outputId": "d5c32f07-5ea0-487d-db25-12fe5b018aa0"
      },
      "execution_count": 99,
      "outputs": [
        {
          "output_type": "execute_result",
          "data": {
            "text/plain": [
              "(tensor([ 0.3616,  1.5380, -0.9701,  0.3614,  0.8125,  1.0035,  1.0683,  1.3562,\n",
              "         -0.0720, -0.6451], dtype=torch.float64),\n",
              " tensor(1., dtype=torch.float64))"
            ]
          },
          "metadata": {},
          "execution_count": 99
        }
      ]
    },
    {
      "cell_type": "code",
      "source": [],
      "metadata": {
        "id": "3SuYiKEHd3AH"
      },
      "execution_count": 99,
      "outputs": []
    },
    {
      "cell_type": "code",
      "metadata": {
        "id": "55c648e8"
      },
      "source": [
        "dataloader = DataLoader(dataset, batch_size=2, shuffle=True)"
      ],
      "execution_count": 100,
      "outputs": []
    },
    {
      "cell_type": "code",
      "metadata": {
        "colab": {
          "base_uri": "https://localhost:8080/"
        },
        "id": "ef2ec9ec",
        "outputId": "ff21966d-b0be-4517-e601-2cb00b53c4dc"
      },
      "source": [
        "for features, labels in dataloader:\n",
        "  print(features.shape, labels.shape)"
      ],
      "execution_count": 101,
      "outputs": [
        {
          "output_type": "stream",
          "name": "stdout",
          "text": [
            "torch.Size([2, 10]) torch.Size([2])\n",
            "torch.Size([2, 10]) torch.Size([2])\n",
            "torch.Size([2, 10]) torch.Size([2])\n",
            "torch.Size([2, 10]) torch.Size([2])\n",
            "torch.Size([2, 10]) torch.Size([2])\n"
          ]
        }
      ]
    },
    {
      "cell_type": "code",
      "source": [
        "\n"
      ],
      "metadata": {
        "id": "6OX6lOtveXqs"
      },
      "execution_count": 101,
      "outputs": []
    },
    {
      "cell_type": "markdown",
      "source": [
        "PyTorch’s DataLoader automatically shuffles the data and provide batches in a random order during training, which helps prevent the model from memorizing the order of the training samples"
      ],
      "metadata": {
        "id": "aOnKqk6xfI09"
      }
    },
    {
      "cell_type": "code",
      "source": [
        "import torch\n",
        "import numpy as np\n",
        "from torch.utils.data import Dataset, DataLoader\n",
        "import torch.nn as nn\n",
        "from sklearn.preprocessing import StandardScaler\n",
        "from torchmetrics import Accuracy\n"
      ],
      "metadata": {
        "id": "9k5D05F5fct5"
      },
      "execution_count": 102,
      "outputs": []
    },
    {
      "cell_type": "code",
      "source": [
        "from sklearn.datasets import load_diabetes"
      ],
      "metadata": {
        "id": "sOyXQh8YfmTu"
      },
      "execution_count": 103,
      "outputs": []
    },
    {
      "cell_type": "code",
      "source": [
        "data = load_diabetes()"
      ],
      "metadata": {
        "id": "pQT0qSOjf0Tp"
      },
      "execution_count": 104,
      "outputs": []
    },
    {
      "cell_type": "code",
      "source": [],
      "metadata": {
        "id": "q3DQmb4mhVVW"
      },
      "execution_count": 104,
      "outputs": []
    },
    {
      "cell_type": "code",
      "source": [],
      "metadata": {
        "id": "qHg44nWmhV5_"
      },
      "execution_count": 104,
      "outputs": []
    },
    {
      "cell_type": "code",
      "source": [
        "class Diabeties_dataset(Dataset):\n",
        "\n",
        "  def __init__(self):\n",
        "    super(Diabeties_dataset,self).__init__()\n",
        "    data = load_diabetes() # Load data inside init\n",
        "    self.x = torch.from_numpy(data.data) # Access the data using .data attribute\n",
        "    self.y = torch.from_numpy(data.target).reshape(-1, 1) # Access target using .target attribute and reshape\n",
        "    self.scaler = StandardScaler()\n",
        "    # Scale x after converting to numpy and back to torch\n",
        "    self.x = torch.from_numpy(self.scaler.fit_transform(self.x.numpy()))\n",
        "    self.n_samples = len(data.data) # Use len of data.data for n_samples\n",
        "\n",
        "  def __getitem__(self, index):\n",
        "    return self.x[index].float(), self.y[index].float() # Ensure both are float\n",
        "\n",
        "  def __len__(self):\n",
        "    return self.n_samples"
      ],
      "metadata": {
        "id": "uyOuE5nbhaFp"
      },
      "execution_count": 105,
      "outputs": []
    },
    {
      "cell_type": "code",
      "source": [
        "dataset = Diabeties_dataset()\n",
        "dataloader = DataLoader(dataset=dataset, batch_size=2, shuffle=True)"
      ],
      "metadata": {
        "id": "UJmlLLqshq2Z"
      },
      "execution_count": 106,
      "outputs": []
    },
    {
      "cell_type": "code",
      "source": [
        "for data in dataloader:\n",
        "    features , label = data\n",
        "    print('features', features)\n",
        "    print('label', label)\n",
        "    break\n",
        "# as you see above when the batch size is 2 it gives us two samples of dataset\n"
      ],
      "metadata": {
        "colab": {
          "base_uri": "https://localhost:8080/"
        },
        "id": "PoBQenUmiV0U",
        "outputId": "283e6d91-d7fb-4dfa-f2ab-6c2ed7ec283e"
      },
      "execution_count": 107,
      "outputs": [
        {
          "output_type": "stream",
          "name": "stdout",
          "text": [
            "features tensor([[-0.8796, -0.9385, -1.3994, -0.9878, -0.7851, -0.9098,  1.0226, -0.8303,\n",
            "         -1.1806, -0.2839],\n",
            "        [-0.6505,  1.0655,  0.0281, -0.1192,  1.3555,  1.0389, -0.9899,  2.2729,\n",
            "          1.7618,  0.0644]])\n",
            "label tensor([[ 59.],\n",
            "        [229.]])\n"
          ]
        }
      ]
    },
    {
      "cell_type": "code",
      "source": [
        "# hyper parameters\n",
        "# Hyperparameters\n",
        "batch_size = 16\n",
        "input_size = 10 # Corrected input_size to match the number of features in the dataset\n",
        "n_dim = 64\n",
        "lr = 0.001\n",
        "epochs = 10\n",
        "\n",
        "# Model\n",
        "model = nn.Sequential(\n",
        "    nn.Linear(input_size, n_dim*2),\n",
        "    nn.ReLU(),\n",
        "    nn.Linear(n_dim*2, n_dim),\n",
        "    nn.ReLU(),\n",
        "    nn.Linear(n_dim, 1),\n",
        "    # Removed Sigmoid for regression task\n",
        ")\n",
        "\n",
        "# Accuracy metric (removed as it's for classification)\n",
        "# accuracy = Accuracy(task='binary')\n",
        "\n",
        "# Optimizer and Loss function\n",
        "optimizer = torch.optim.Adam(model.parameters(), lr=lr)\n",
        "criterion = torch.nn.MSELoss() # Changed loss function to MSELoss for regression"
      ],
      "metadata": {
        "id": "oefKQg1Km_pQ"
      },
      "execution_count": 114,
      "outputs": []
    },
    {
      "cell_type": "code",
      "source": [
        "for epoch in range(epochs):\n",
        "    losses = []\n",
        "    # accuracies = [] # Removed accuracy list\n",
        "\n",
        "    # iterating over the dataset\n",
        "    for features, labels in dataloader:\n",
        "\n",
        "        # setting grads to zero\n",
        "        optimizer.zero_grad()\n",
        "\n",
        "        # forward prop\n",
        "        logits = model(features)\n",
        "        loss = criterion(logits, labels)\n",
        "\n",
        "        # backprop\n",
        "        loss.backward()\n",
        "        optimizer.step()\n",
        "\n",
        "        losses.append(loss.item())\n",
        "        # accuracies.append(accuracy(logits, labels).item()) # Removed accuracy calculation\n",
        "\n",
        "    # calculating mean loss through the epoch\n",
        "    mean_loss = np.mean(losses)\n",
        "    # mean_accuracy = np.mean(accuracies) # Removed accuracy calculation\n",
        "    print(f\"Epoch [{epoch+1}/{epochs}], Loss: {mean_loss:.4f}\") # Modified print statement"
      ],
      "metadata": {
        "colab": {
          "base_uri": "https://localhost:8080/"
        },
        "id": "dtN2bmNPnukM",
        "outputId": "e36d3015-2181-40a1-a3c7-23f2ebcb742e"
      },
      "execution_count": 116,
      "outputs": [
        {
          "output_type": "stream",
          "name": "stdout",
          "text": [
            "Epoch [1/10], Loss: 17757.8807\n",
            "Epoch [2/10], Loss: 3948.0834\n",
            "Epoch [3/10], Loss: 3276.0960\n",
            "Epoch [4/10], Loss: 3068.9113\n",
            "Epoch [5/10], Loss: 2962.9496\n",
            "Epoch [6/10], Loss: 2882.0385\n",
            "Epoch [7/10], Loss: 2831.3880\n",
            "Epoch [8/10], Loss: 2794.0444\n",
            "Epoch [9/10], Loss: 2789.5931\n",
            "Epoch [10/10], Loss: 2748.5153\n"
          ]
        }
      ]
    },
    {
      "cell_type": "code",
      "source": [],
      "metadata": {
        "id": "FazebPp6obWM"
      },
      "execution_count": null,
      "outputs": []
    }
  ]
}