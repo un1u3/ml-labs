{
  "nbformat": 4,
  "nbformat_minor": 0,
  "metadata": {
    "colab": {
      "provenance": [],
      "authorship_tag": "ABX9TyNOGioT2eFKjuddkhr5UqQF",
      "include_colab_link": true
    },
    "kernelspec": {
      "name": "python3",
      "display_name": "Python 3"
    },
    "language_info": {
      "name": "python"
    }
  },
  "cells": [
    {
      "cell_type": "markdown",
      "metadata": {
        "id": "view-in-github",
        "colab_type": "text"
      },
      "source": [
        "<a href=\"https://colab.research.google.com/github/un1u3/ml-labs/blob/main/Deep%20Learning/Pytorch/03_NN_module.ipynb\" target=\"_parent\"><img src=\"https://colab.research.google.com/assets/colab-badge.svg\" alt=\"Open In Colab\"/></a>"
      ]
    },
    {
      "cell_type": "markdown",
      "source": [
        "\n",
        "\n",
        "What is NN Module\n",
        "\n",
        "torch.nn stands for Neural Network module — it provides:\n",
        "\n",
        "- Pre-built layers (e.g., Linear, Conv2d, LSTM, etc.)\n",
        "\n",
        "- Activation functions (e.g., ReLU, Sigmoid)\n",
        "\n",
        "- Loss functions (e.g., CrossEntropyLoss, MSELoss)\n",
        "\n",
        "- Model definition base class (nn.Module)\n",
        "\n",
        "- Containers like Sequential to group layers"
      ],
      "metadata": {
        "id": "qxZRzv5HSs1R"
      }
    },
    {
      "cell_type": "code",
      "source": [
        "# create a model class\n",
        "\n",
        "import torch\n",
        "import torch.nn as nn\n",
        "\n",
        "class Model(nn.Module):\n",
        "  def __init__(self,num_features):\n",
        "    super().__init__()\n",
        "    self.linear = nn.Linear(num_features,1)\n",
        "    self.sigmoid = nn.Sigmoid()\n",
        "\n",
        "  def forward(self,features):\n",
        "    out = self.linear(features)\n",
        "    put = self.sigmoid(out)\n",
        "    return out"
      ],
      "metadata": {
        "id": "dHyBSTWOUlYA"
      },
      "execution_count": 1,
      "outputs": []
    },
    {
      "cell_type": "code",
      "source": [
        "# create dataser\n",
        "features = torch.rand(10,5)\n",
        "\n",
        "# create model\n",
        "\n",
        "model = Model(features.shape[1])\n",
        "model.forward(features)"
      ],
      "metadata": {
        "colab": {
          "base_uri": "https://localhost:8080/"
        },
        "id": "gfaddQ98VFpL",
        "outputId": "0615734f-f4cf-46c8-982b-9dbac8abf2e6"
      },
      "execution_count": 2,
      "outputs": [
        {
          "output_type": "execute_result",
          "data": {
            "text/plain": [
              "tensor([[ 0.0337],\n",
              "        [-0.0226],\n",
              "        [ 0.0163],\n",
              "        [ 0.1546],\n",
              "        [-0.2373],\n",
              "        [ 0.2096],\n",
              "        [ 0.2151],\n",
              "        [ 0.4086],\n",
              "        [ 0.3276],\n",
              "        [ 0.1284]], grad_fn=<AddmmBackward0>)"
            ]
          },
          "metadata": {},
          "execution_count": 2
        }
      ]
    },
    {
      "cell_type": "code",
      "source": [
        "# show the model weights\n",
        "\n",
        "model.linear.weight"
      ],
      "metadata": {
        "colab": {
          "base_uri": "https://localhost:8080/"
        },
        "id": "E5D1mU4vWW9d",
        "outputId": "edc062bc-0e15-45e2-81a1-ebf33831ae4e"
      },
      "execution_count": 3,
      "outputs": [
        {
          "output_type": "execute_result",
          "data": {
            "text/plain": [
              "Parameter containing:\n",
              "tensor([[-0.4122, -0.1745, -0.2501,  0.4296, -0.1230]], requires_grad=True)"
            ]
          },
          "metadata": {},
          "execution_count": 3
        }
      ]
    },
    {
      "cell_type": "code",
      "metadata": {
        "colab": {
          "base_uri": "https://localhost:8080/",
          "height": 349
        },
        "id": "6b3068fb",
        "outputId": "641e060f-f683-4479-a62c-c68d0f75c691"
      },
      "source": [
        "# visualize\n",
        "from torchinfo import summary\n",
        "summary(model,input_size=(10,5))"
      ],
      "execution_count": 4,
      "outputs": [
        {
          "output_type": "error",
          "ename": "ModuleNotFoundError",
          "evalue": "No module named 'torchinfo'",
          "traceback": [
            "\u001b[0;31m---------------------------------------------------------------------------\u001b[0m",
            "\u001b[0;31mModuleNotFoundError\u001b[0m                       Traceback (most recent call last)",
            "\u001b[0;32m/tmp/ipython-input-4-2225138072.py\u001b[0m in \u001b[0;36m<cell line: 0>\u001b[0;34m()\u001b[0m\n\u001b[1;32m      1\u001b[0m \u001b[0;31m# visualize\u001b[0m\u001b[0;34m\u001b[0m\u001b[0;34m\u001b[0m\u001b[0m\n\u001b[0;32m----> 2\u001b[0;31m \u001b[0;32mfrom\u001b[0m \u001b[0mtorchinfo\u001b[0m \u001b[0;32mimport\u001b[0m \u001b[0msummary\u001b[0m\u001b[0;34m\u001b[0m\u001b[0;34m\u001b[0m\u001b[0m\n\u001b[0m\u001b[1;32m      3\u001b[0m \u001b[0msummary\u001b[0m\u001b[0;34m(\u001b[0m\u001b[0mmodel\u001b[0m\u001b[0;34m,\u001b[0m\u001b[0minput_size\u001b[0m\u001b[0;34m=\u001b[0m\u001b[0;34m(\u001b[0m\u001b[0;36m10\u001b[0m\u001b[0;34m,\u001b[0m\u001b[0;36m5\u001b[0m\u001b[0;34m)\u001b[0m\u001b[0;34m)\u001b[0m\u001b[0;34m\u001b[0m\u001b[0;34m\u001b[0m\u001b[0m\n",
            "\u001b[0;31mModuleNotFoundError\u001b[0m: No module named 'torchinfo'",
            "",
            "\u001b[0;31m---------------------------------------------------------------------------\u001b[0;32m\nNOTE: If your import is failing due to a missing package, you can\nmanually install dependencies using either !pip or !apt.\n\nTo view examples of installing some common dependencies, click the\n\"Open Examples\" button below.\n\u001b[0;31m---------------------------------------------------------------------------\u001b[0m\n"
          ],
          "errorDetails": {
            "actions": [
              {
                "action": "open_url",
                "actionText": "Open Examples",
                "url": "/notebooks/snippets/importing_libraries.ipynb"
              }
            ]
          }
        }
      ]
    },
    {
      "cell_type": "code",
      "source": [
        "# create a model class\n",
        "\n",
        "import torch\n",
        "import torch.nn as nn\n",
        "\n",
        "class Model1(nn.Module):\n",
        "  def __init__(self,num_features):\n",
        "    super().__init__()\n",
        "    self.linear1 = nn.Linear(num_features,3)\n",
        "    self.linear2 = nn.Linear(3,1)\n",
        "    self.sigmoid = nn.Sigmoid()\n",
        "    self.relu = nn.ReLU()\n",
        "\n",
        "  def forward(self,features):\n",
        "    out = self.linear1(features)\n",
        "    out = self.relu(out)\n",
        "    out = self.linear2(out)\n",
        "    out = self.sigmoid(out)\n",
        "    return out"
      ],
      "metadata": {
        "id": "-GLBHPILWlyO"
      },
      "execution_count": null,
      "outputs": []
    },
    {
      "cell_type": "code",
      "source": [
        "# create dataser\n",
        "features = torch.rand(10,5)\n",
        "\n",
        "# create model\n",
        "\n",
        "model = Model(features.shape[1])\n",
        "model.forward(features)"
      ],
      "metadata": {
        "id": "z-4Xb7JeY5Mn"
      },
      "execution_count": null,
      "outputs": []
    },
    {
      "cell_type": "code",
      "source": [
        "# visualize\n",
        "from torchinfo import summary\n",
        "\n",
        "# create an instance of Model1\n",
        "model1_instance = Model1(num_features=5) # Assuming num_features is 5 based on previous code\n",
        "\n",
        "summary(model1_instance,input_size=(10,5))"
      ],
      "metadata": {
        "id": "miayE5P7ZJTb"
      },
      "execution_count": null,
      "outputs": []
    },
    {
      "cell_type": "code",
      "source": [
        "# create a model class by simpilfying the model\n",
        "\n",
        "import torch\n",
        "import torch.nn as nn\n",
        "\n",
        "class Model2(nn.Module):\n",
        "  def __init__(self,num_features):\n",
        "    super().__init__()\n",
        "    self.network = nn.Sequential(\n",
        "      nn.Linear(num_features,3),\n",
        "      nn.ReLU(),\n",
        "      nn.Linear(3,1),\n",
        "      nn.Sigmoid()\n",
        "    )\n",
        "\n",
        "  def forward(self,features):\n",
        "    out = self.network(features)\n",
        "    return out"
      ],
      "metadata": {
        "id": "yhia0bOJZYjz"
      },
      "execution_count": null,
      "outputs": []
    },
    {
      "cell_type": "code",
      "metadata": {
        "id": "8c135f09"
      },
      "source": [
        "# visualize\n",
        "from torchinfo import summary\n",
        "\n",
        "# create an instance of Model1\n",
        "model2_instance = Model2(num_features=5) # Assuming num_features is 5 based on previous code\n",
        "\n",
        "summary(model2_instance,input_size=(10,5))"
      ],
      "execution_count": null,
      "outputs": []
    },
    {
      "cell_type": "code",
      "source": [
        "#  nn.Linear: Fully Connected Layer\n",
        "# Purpose: Applies a linear transformation: y = xW^T + b\n",
        "# Common Use: Used in feedforward networks for dense connections between layers.\n",
        "# Define a linear layer with input size 3 and output size 2\n",
        "linear = nn.Linear(3, 2)\n",
        "# Example input\n",
        "x = torch.tensor([[1.0, 2.0, 3.0]])\n",
        "output = linear(x)\n",
        "print(\"Output:\", output)"
      ],
      "metadata": {
        "id": "2gRJwpEcak2F",
        "colab": {
          "base_uri": "https://localhost:8080/"
        },
        "outputId": "762e0958-80fb-41ef-aa5d-6f2b28b88940"
      },
      "execution_count": 9,
      "outputs": [
        {
          "output_type": "stream",
          "name": "stdout",
          "text": [
            "Output: tensor([[-2.5950,  0.3397]], grad_fn=<AddmmBackward0>)\n"
          ]
        }
      ]
    },
    {
      "cell_type": "code",
      "source": [
        "#  nn.Conv2d: Convolutional Layer\n",
        "# Purpose: Performs 2D convolution for image data.\n",
        "# Common Use: Extracts spatial features in computer vision tasks.\n",
        "# Parameters:\n",
        "# in_channels: Number of input channels (e.g., RGB has 3 channels).\n",
        "# out_channels: Number of output channels (filters).\n",
        "# kernel_size: Size of the convolutional kernel.\n",
        "conv = nn.Conv2d(in_channels=3, out_channels=6, kernel_size=3)\n",
        "# Example input (batch of 1, 3 channels, 32x32 image)\n",
        "x = torch.randn(1, 3, 32, 32)\n",
        "output = conv(x)\n",
        "print(\"Output shape:\", output.shape)  # Shape: (1, 6, 30, 30)\n"
      ],
      "metadata": {
        "colab": {
          "base_uri": "https://localhost:8080/"
        },
        "id": "aLSlH06Pt_7Y",
        "outputId": "dbf458db-dc44-429b-9e0a-cd4509693eac"
      },
      "execution_count": 10,
      "outputs": [
        {
          "output_type": "stream",
          "name": "stdout",
          "text": [
            "Output shape: torch.Size([1, 6, 30, 30])\n"
          ]
        }
      ]
    },
    {
      "cell_type": "code",
      "source": [
        "# . nn.ReLU: Activation Function\n",
        "# Purpose: Applies the ReLU function: ReLU(x)=max⁡(0,x)\n",
        "# Common Use: Adds non-linearity after linear or convolutional layers.\n",
        "\n",
        "\n",
        "relu = nn.ReLU()\n",
        "x = torch.randn(1, 3, 32, 32)\n",
        "output = relu(x)\n",
        "output"
      ],
      "metadata": {
        "colab": {
          "base_uri": "https://localhost:8080/"
        },
        "id": "rY2cU22-uVrw",
        "outputId": "7c9cb2ca-12a1-45cf-f029-84b69e3a763c"
      },
      "execution_count": 13,
      "outputs": [
        {
          "output_type": "execute_result",
          "data": {
            "text/plain": [
              "tensor([[[[0.0000, 0.2163, 1.9069,  ..., 0.0000, 0.0000, 0.1688],\n",
              "          [0.4885, 0.0000, 0.0000,  ..., 0.0000, 0.6127, 1.6627],\n",
              "          [0.4599, 1.4968, 0.0467,  ..., 0.3936, 0.0000, 1.2783],\n",
              "          ...,\n",
              "          [0.0000, 2.0083, 1.4023,  ..., 0.0143, 0.0000, 0.5679],\n",
              "          [1.5655, 0.3150, 0.0000,  ..., 0.8891, 0.4494, 0.0000],\n",
              "          [0.0000, 1.6908, 0.0000,  ..., 0.3408, 0.2702, 1.4028]],\n",
              "\n",
              "         [[0.0000, 0.0000, 0.0000,  ..., 0.8529, 0.9163, 1.2107],\n",
              "          [0.0000, 0.9762, 1.7560,  ..., 1.0580, 1.1093, 0.4588],\n",
              "          [1.4134, 0.0000, 0.0000,  ..., 0.0000, 0.0000, 0.0000],\n",
              "          ...,\n",
              "          [0.0000, 0.0000, 0.3275,  ..., 0.1718, 0.0000, 2.6092],\n",
              "          [0.0926, 0.0000, 0.0000,  ..., 0.0000, 0.0000, 0.0000],\n",
              "          [0.2389, 0.0000, 0.0000,  ..., 0.0000, 0.0000, 0.0000]],\n",
              "\n",
              "         [[0.5183, 0.0000, 0.1508,  ..., 0.0000, 0.3746, 0.0000],\n",
              "          [0.0000, 0.0965, 0.3171,  ..., 0.0000, 0.0000, 0.3842],\n",
              "          [1.3842, 0.2625, 0.6234,  ..., 0.0000, 0.0000, 0.6664],\n",
              "          ...,\n",
              "          [1.2541, 1.2395, 0.0000,  ..., 1.3213, 0.0000, 0.0000],\n",
              "          [0.0000, 0.5314, 1.8287,  ..., 0.0000, 0.0852, 0.2384],\n",
              "          [0.0000, 0.3647, 0.0000,  ..., 0.0760, 0.0000, 0.3919]]]])"
            ]
          },
          "metadata": {},
          "execution_count": 13
        }
      ]
    },
    {
      "cell_type": "code",
      "source": [],
      "metadata": {
        "id": "gpKFfrxxuekV"
      },
      "execution_count": null,
      "outputs": []
    }
  ]
}