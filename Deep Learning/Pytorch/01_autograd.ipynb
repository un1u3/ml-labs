{
  "nbformat": 4,
  "nbformat_minor": 0,
  "metadata": {
    "colab": {
      "provenance": [],
      "authorship_tag": "ABX9TyNAQA+f2ql0Y/30Ww0KYKQ2",
      "include_colab_link": true
    },
    "kernelspec": {
      "name": "python3",
      "display_name": "Python 3"
    },
    "language_info": {
      "name": "python"
    }
  },
  "cells": [
    {
      "cell_type": "markdown",
      "metadata": {
        "id": "view-in-github",
        "colab_type": "text"
      },
      "source": [
        "<a href=\"https://colab.research.google.com/github/un1u3/ml-labs/blob/main/Deep%20Learning/Pytorch/01_autograd.ipynb\" target=\"_parent\"><img src=\"https://colab.research.google.com/assets/colab-badge.svg\" alt=\"Open In Colab\"/></a>"
      ]
    },
    {
      "cell_type": "markdown",
      "source": [
        "Autograd is a feature of pytorch which automatically computes gradients (partial derivatives) for tensor operations used in training neural network models\n",
        "- When you perform operations on tensors with requires_grad=True, PyTorch records the computation graph. Then, when you call `.backward()`, PyTorch automatically computes the gradients of all tensors in that graph.\n",
        "\n"
      ],
      "metadata": {
        "id": "8IBrg3wcuUOY"
      }
    },
    {
      "cell_type": "code",
      "source": [],
      "metadata": {
        "id": "lPp51AJIu8n8"
      },
      "execution_count": null,
      "outputs": []
    },
    {
      "cell_type": "code",
      "source": [
        "import torch\n",
        "\n",
        "# Create a tensor with requires_grad=True to track computations\n",
        "x = torch.tensor(2.0, requires_grad=True)\n",
        "\n",
        "# Define a function y = x^2\n",
        "y = x**2\n",
        "\n",
        "# Backpropagate: compute dy/dx\n",
        "y.backward()\n",
        "\n",
        "# Print the gradient (dy/dx = 2x)\n",
        "print(x.grad)  # Output: tensor(4.)\n"
      ],
      "metadata": {
        "colab": {
          "base_uri": "https://localhost:8080/"
        },
        "id": "K-2Uza5CvDiu",
        "outputId": "598802f2-a713-475a-fb1d-1c9e4ff080b1"
      },
      "execution_count": 2,
      "outputs": [
        {
          "output_type": "stream",
          "name": "stdout",
          "text": [
            "tensor(4.)\n"
          ]
        }
      ]
    },
    {
      "cell_type": "code",
      "source": [
        "x = torch.tensor(3.0,requires_grad=True)\n",
        "y = x ** 4\n",
        "y.backward()\n",
        "print(x.grad)"
      ],
      "metadata": {
        "colab": {
          "base_uri": "https://localhost:8080/"
        },
        "id": "AWz9IVUivNSA",
        "outputId": "20ac21fb-529f-41ee-8eee-2135e3beb604"
      },
      "execution_count": null,
      "outputs": [
        {
          "output_type": "stream",
          "name": "stdout",
          "text": [
            "tensor(108.)\n"
          ]
        }
      ]
    },
    {
      "cell_type": "code",
      "source": [
        "#  working with vectors"
      ],
      "metadata": {
        "id": "9s0cJsqEve2z"
      },
      "execution_count": 1,
      "outputs": []
    },
    {
      "cell_type": "code",
      "source": [
        "x  = torch.tensor([1,2,3,4,5],requires_grad=True,dtype=torch.float32)\n",
        "y = x.pow(2).mean()\n",
        "y.backward()\n",
        "x.grad"
      ],
      "metadata": {
        "id": "uXg2b12kwkv6",
        "colab": {
          "base_uri": "https://localhost:8080/"
        },
        "outputId": "f1545ab0-00c4-43dc-fdf4-8f63c12203dd"
      },
      "execution_count": 10,
      "outputs": [
        {
          "output_type": "execute_result",
          "data": {
            "text/plain": [
              "tensor([0.4000, 0.8000, 1.2000, 1.6000, 2.0000])"
            ]
          },
          "metadata": {},
          "execution_count": 10
        }
      ]
    },
    {
      "cell_type": "code",
      "source": [
        "# Training a simple neural network"
      ],
      "metadata": {
        "id": "kE-NzYv4w_ST"
      },
      "execution_count": 12,
      "outputs": []
    },
    {
      "cell_type": "code",
      "source": [
        "import torch\n",
        "# Create input and target\n",
        "x = torch.tensor(3.0,requires_grad=True)\n",
        "y = torch.tensor(0.0)\n",
        "\n",
        "# initalizes weight adn biases\n",
        "w = torch.tensor(1.0,requires_grad=True)\n",
        "b = torch.tensor(1.0,requires_grad=True)\n",
        "\n",
        "# foreward pass\n",
        "z = w * x + b\n",
        "y_pred = torch.sigmoid(z)\n",
        "\n",
        "# calculate loss\n",
        "loss = y_pred * (1 - y) + (1 - y_pred) * y\n",
        "\n",
        "# backward pass\n",
        "loss.backward()\n",
        "\n",
        "print(w.grad)\n",
        "print(b.grad)\n",
        "\n",
        "# what this neural network do\n",
        "# this is a simple nn , it takes x and input and tweaks the sigmoid function(vlaue of w and b) to predict the\n",
        "# the vlaue for w and b to make a function which takes 3 as input and gives 0"
      ],
      "metadata": {
        "colab": {
          "base_uri": "https://localhost:8080/"
        },
        "id": "8iDMx_sH4mGY",
        "outputId": "4362ed3a-bc80-4550-f67e-0ffae596d363"
      },
      "execution_count": 15,
      "outputs": [
        {
          "output_type": "stream",
          "name": "stdout",
          "text": [
            "tensor(0.0530)\n",
            "tensor(0.0177)\n"
          ]
        }
      ]
    },
    {
      "cell_type": "code",
      "source": [],
      "metadata": {
        "id": "Y4CvbOEe4ucU"
      },
      "execution_count": null,
      "outputs": []
    }
  ]
}