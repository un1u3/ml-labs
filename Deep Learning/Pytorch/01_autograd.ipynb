{
  "nbformat": 4,
  "nbformat_minor": 0,
  "metadata": {
    "colab": {
      "provenance": [],
      "authorship_tag": "ABX9TyMznEcuz6hLWMhGA0t/Wz9O",
      "include_colab_link": true
    },
    "kernelspec": {
      "name": "python3",
      "display_name": "Python 3"
    },
    "language_info": {
      "name": "python"
    }
  },
  "cells": [
    {
      "cell_type": "markdown",
      "metadata": {
        "id": "view-in-github",
        "colab_type": "text"
      },
      "source": [
        "<a href=\"https://colab.research.google.com/github/un1u3/ml-labs/blob/main/Deep%20Learning/Pytorch/01_autograd.ipynb\" target=\"_parent\"><img src=\"https://colab.research.google.com/assets/colab-badge.svg\" alt=\"Open In Colab\"/></a>"
      ]
    },
    {
      "cell_type": "markdown",
      "source": [
        "Autograd is a feature of pytorch which automatically computes gradients (partial derivatives) for tensor operations used in training neural network models\n",
        "- When you perform operations on tensors with requires_grad=True, PyTorch records the computation graph. Then, when you call `.backward()`, PyTorch automatically computes the gradients of all tensors in that graph.\n",
        "\n"
      ],
      "metadata": {
        "id": "8IBrg3wcuUOY"
      }
    },
    {
      "cell_type": "code",
      "source": [],
      "metadata": {
        "id": "lPp51AJIu8n8"
      },
      "execution_count": null,
      "outputs": []
    },
    {
      "cell_type": "code",
      "source": [
        "import torch\n",
        "\n",
        "# Create a tensor with requires_grad=True to track computations\n",
        "x = torch.tensor(2.0, requires_grad=True)\n",
        "\n",
        "# Define a function y = x^2\n",
        "y = x**2\n",
        "\n",
        "# Backpropagate: compute dy/dx\n",
        "y.backward()\n",
        "\n",
        "# Print the gradient (dy/dx = 2x)\n",
        "print(x.grad)  # Output: tensor(4.)\n"
      ],
      "metadata": {
        "colab": {
          "base_uri": "https://localhost:8080/"
        },
        "id": "K-2Uza5CvDiu",
        "outputId": "696c5a2e-32b9-4057-8f31-c4ed3e0d1bb7"
      },
      "execution_count": null,
      "outputs": [
        {
          "output_type": "stream",
          "name": "stdout",
          "text": [
            "tensor(4.)\n"
          ]
        }
      ]
    },
    {
      "cell_type": "code",
      "source": [
        "x = torch.tensor(3.0,requires_grad=True)\n",
        "y = x ** 4\n",
        "y.backward()\n",
        "print(x.grad)"
      ],
      "metadata": {
        "colab": {
          "base_uri": "https://localhost:8080/"
        },
        "id": "AWz9IVUivNSA",
        "outputId": "20ac21fb-529f-41ee-8eee-2135e3beb604"
      },
      "execution_count": null,
      "outputs": [
        {
          "output_type": "stream",
          "name": "stdout",
          "text": [
            "tensor(108.)\n"
          ]
        }
      ]
    },
    {
      "cell_type": "code",
      "source": [],
      "metadata": {
        "id": "9s0cJsqEve2z"
      },
      "execution_count": null,
      "outputs": []
    },
    {
      "cell_type": "code",
      "source": [],
      "metadata": {
        "id": "uXg2b12kwkv6"
      },
      "execution_count": null,
      "outputs": []
    },
    {
      "cell_type": "code",
      "source": [],
      "metadata": {
        "id": "kE-NzYv4w_ST"
      },
      "execution_count": null,
      "outputs": []
    }
  ]
}