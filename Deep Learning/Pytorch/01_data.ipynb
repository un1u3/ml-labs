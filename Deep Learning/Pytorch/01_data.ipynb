{
  "nbformat": 4,
  "nbformat_minor": 0,
  "metadata": {
    "colab": {
      "provenance": [],
      "authorship_tag": "ABX9TyPk0TbhdGYTUWm1xjlJE44+",
      "include_colab_link": true
    },
    "kernelspec": {
      "name": "python3",
      "display_name": "Python 3"
    },
    "language_info": {
      "name": "python"
    }
  },
  "cells": [
    {
      "cell_type": "markdown",
      "metadata": {
        "id": "view-in-github",
        "colab_type": "text"
      },
      "source": [
        "<a href=\"https://colab.research.google.com/github/un1u3/ml-labs/blob/main/Deep%20Learning/Pytorch/01_data.ipynb\" target=\"_parent\"><img src=\"https://colab.research.google.com/assets/colab-badge.svg\" alt=\"Open In Colab\"/></a>"
      ]
    },
    {
      "cell_type": "code",
      "execution_count": 1,
      "metadata": {
        "id": "901WQwuxsm-4"
      },
      "outputs": [],
      "source": [
        "import torch\n",
        "import torchvision\n",
        "from torchvision import transforms, datasets"
      ]
    },
    {
      "cell_type": "code",
      "source": [],
      "metadata": {
        "id": "Wi3wvT4Pu2rL"
      },
      "execution_count": 1,
      "outputs": []
    },
    {
      "cell_type": "code",
      "source": [
        "train  = datasets.MNIST(\"\",train=True,download=True,\n",
        "                  transform = transforms.Compose([transforms.ToTensor()]))\n",
        "test  = datasets.MNIST(\"\",train=False,download=True,\n",
        "                  transform = transforms.Compose([transforms.ToTensor()]))"
      ],
      "metadata": {
        "id": "RAY1N4pktmAm"
      },
      "execution_count": 5,
      "outputs": []
    },
    {
      "cell_type": "code",
      "source": [
        "trainset = torch.utils.data.DataLoader(train,batch_size=10, shuffle = True)\n",
        "testset = torch.utils.data.DataLoader(test,batch_size=10, shuffle = True)\n"
      ],
      "metadata": {
        "id": "-fE3o67qZ7B1"
      },
      "execution_count": 8,
      "outputs": []
    },
    {
      "cell_type": "code",
      "source": [],
      "metadata": {
        "colab": {
          "base_uri": "https://localhost:8080/"
        },
        "id": "yigFaIJOuAzo",
        "outputId": "e9734d45-1573-4636-aca6-45c4cb68cda2"
      },
      "execution_count": null,
      "outputs": [
        {
          "output_type": "execute_result",
          "data": {
            "text/plain": [
              "typing.Dict"
            ]
          },
          "metadata": {},
          "execution_count": 7
        }
      ]
    },
    {
      "cell_type": "code",
      "source": [],
      "metadata": {
        "id": "OXQ31la7uD1I"
      },
      "execution_count": null,
      "outputs": []
    }
  ]
}