{
  "cells": [
    {
      "cell_type": "code",
      "execution_count": null,
      "id": "07e2832d",
      "metadata": {
        "id": "07e2832d",
        "outputId": "c35899ae-ff63-410f-ea43-c533693c1827"
      },
      "outputs": [
        {
          "data": {
            "text/plain": [
              "'Learning Pytorch'"
            ]
          },
          "execution_count": 1,
          "metadata": {},
          "output_type": "execute_result"
        }
      ],
      "source": [
        "\"Learning Pytorch in COllab parr\""
      ]
    },
    {
      "cell_type": "code",
      "execution_count": null,
      "id": "6a9c3406",
      "metadata": {
        "id": "6a9c3406"
      },
      "outputs": [],
      "source": []
    },
    {
      "cell_type": "code",
      "execution_count": null,
      "id": "4a606907",
      "metadata": {
        "id": "4a606907"
      },
      "outputs": [],
      "source": []
    }
  ],
  "metadata": {
    "kernelspec": {
      "display_name": "base",
      "language": "python",
      "name": "python3"
    },
    "language_info": {
      "codemirror_mode": {
        "name": "ipython",
        "version": 3
      },
      "file_extension": ".py",
      "mimetype": "text/x-python",
      "name": "python",
      "nbconvert_exporter": "python",
      "pygments_lexer": "ipython3",
      "version": "3.12.7"
    },
    "colab": {
      "provenance": []
    }
  },
  "nbformat": 4,
  "nbformat_minor": 5
}