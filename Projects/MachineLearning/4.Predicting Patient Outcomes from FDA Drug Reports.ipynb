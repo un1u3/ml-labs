{
 "cells": [
  {
   "cell_type": "markdown",
   "id": "a139b167",
   "metadata": {},
   "source": [
    "# Check my github repo "
   ]
  },
  {
   "cell_type": "code",
   "execution_count": null,
   "id": "bd6356a9",
   "metadata": {},
   "outputs": [],
   "source": []
  },
  {
   "cell_type": "code",
   "execution_count": null,
   "id": "5f417d93",
   "metadata": {},
   "outputs": [],
   "source": []
  }
 ],
 "metadata": {
  "kernelspec": {
   "display_name": "base",
   "language": "python",
   "name": "python3"
  },
  "language_info": {
   "name": "python",
   "version": "3.12.7"
  }
 },
 "nbformat": 4,
 "nbformat_minor": 5
}
