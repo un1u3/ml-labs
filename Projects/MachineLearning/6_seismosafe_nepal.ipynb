{
 "cells": [
  {
   "cell_type": "markdown",
   "id": "6aeb3bb0",
   "metadata": {},
   "source": [
    "check github\n",
    "https://github.com/un1u3/seismosafe-nepal"
   ]
  },
  {
   "cell_type": "markdown",
   "id": "a52b84a7",
   "metadata": {},
   "source": []
  }
 ],
 "metadata": {
  "language_info": {
   "name": "python"
  }
 },
 "nbformat": 4,
 "nbformat_minor": 5
}
