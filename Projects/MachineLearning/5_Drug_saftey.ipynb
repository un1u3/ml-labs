{
 "cells": [
  {
   "cell_type": "markdown",
   "id": "bd45fc2e",
   "metadata": {},
   "source": [
    "check github\n",
    "https://github.com/un1u3/drug-safety-predictor"
   ]
  },
  {
   "cell_type": "markdown",
   "id": "1d127c9c",
   "metadata": {},
   "source": []
  }
 ],
 "metadata": {
  "language_info": {
   "name": "python"
  }
 },
 "nbformat": 4,
 "nbformat_minor": 5
}
